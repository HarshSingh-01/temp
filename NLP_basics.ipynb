{
  "nbformat": 4,
  "nbformat_minor": 0,
  "metadata": {
    "colab": {
      "provenance": []
    },
    "kernelspec": {
      "name": "python3",
      "display_name": "Python 3"
    },
    "language_info": {
      "name": "python"
    }
  },
  "cells": [
    {
      "cell_type": "markdown",
      "source": [
        "# NLP Basics"
      ],
      "metadata": {
        "id": "sOsUCgUMiDpx"
      }
    },
    {
      "cell_type": "markdown",
      "source": [
        " What is Natural Language Processing (NLP)?\n",
        "\n",
        "\n",
        "Natural Language Processing is an interdisciplinary field of Artificial Intelligence. It is a technique used to teach a computer to understand Human languages and also interpret just like us. It is the art of extracting information, hidden insights from unstructured text. It is a sophisticated field that makes computers process text data on a large scale.\n",
        "\n",
        "The ultimate goal of NLP is to make computers and computer-controlled bots understand and interpret Human Languages, just as we do."
      ],
      "metadata": {
        "id": "XQ8K2YcoiPA9"
      }
    },
    {
      "cell_type": "markdown",
      "source": [
        "Applications of NLP:\n",
        "\n",
        "Natural Language Processing is powering many industries with its advanced Deep Learning Algorithms like transformers, language models(GPT-3), RNNs, LSTMs, and many more.\n",
        "\n",
        "NLP is used in:\n",
        "\n",
        "Sentimental Analysis\n",
        "\n",
        "Chatbots\n",
        "\n",
        "Virtual Assistants\n",
        "\n",
        "Speech Recognition\n",
        "\n",
        "Machine Translation\n",
        "\n",
        "Advertise Matching\n",
        "\n",
        "Information Extraction\n",
        "\n",
        "Grammatical error detection\n",
        "\n",
        "Text Summarize"
      ],
      "metadata": {
        "id": "2lA96Msqi90I"
      }
    },
    {
      "cell_type": "markdown",
      "source": [
        "# Installation of NLTK Library"
      ],
      "metadata": {
        "id": "qjzcPiLVjuJe"
      }
    },
    {
      "cell_type": "code",
      "source": [
        "#the command \"!pip install \"  followed by package name is use to install any package in the google colaboratory.\n",
        "!pip install nltk"
      ],
      "metadata": {
        "id": "0WREMXvzjyRs",
        "colab": {
          "base_uri": "https://localhost:8080/"
        },
        "outputId": "cc69f9d4-60ae-4fc2-b2ce-58ac08e5e3b4"
      },
      "execution_count": null,
      "outputs": [
        {
          "output_type": "stream",
          "name": "stdout",
          "text": [
            "Requirement already satisfied: nltk in /usr/local/lib/python3.10/dist-packages (3.8.1)\n",
            "Requirement already satisfied: click in /usr/local/lib/python3.10/dist-packages (from nltk) (8.1.7)\n",
            "Requirement already satisfied: joblib in /usr/local/lib/python3.10/dist-packages (from nltk) (1.3.2)\n",
            "Requirement already satisfied: regex>=2021.8.3 in /usr/local/lib/python3.10/dist-packages (from nltk) (2023.6.3)\n",
            "Requirement already satisfied: tqdm in /usr/local/lib/python3.10/dist-packages (from nltk) (4.66.1)\n"
          ]
        }
      ]
    },
    {
      "cell_type": "code",
      "source": [
        "import nltk\n",
        "#for tokenizers download\n",
        "nltk.download('punkt')\n",
        "#download below wordnet for lemmetization\n",
        "nltk.download('wordnet')"
      ],
      "metadata": {
        "colab": {
          "base_uri": "https://localhost:8080/"
        },
        "id": "Dpon7D0jmNP3",
        "outputId": "dda5af1f-7f7c-4a26-d3d5-4b91bd321cb4"
      },
      "execution_count": null,
      "outputs": [
        {
          "output_type": "stream",
          "name": "stderr",
          "text": [
            "[nltk_data] Downloading package punkt to /root/nltk_data...\n",
            "[nltk_data]   Unzipping tokenizers/punkt.zip.\n",
            "[nltk_data] Downloading package wordnet to /root/nltk_data...\n"
          ]
        },
        {
          "output_type": "execute_result",
          "data": {
            "text/plain": [
              "True"
            ]
          },
          "metadata": {},
          "execution_count": 2
        }
      ]
    },
    {
      "cell_type": "markdown",
      "source": [
        "# Data Preprocessing using NLTK:"
      ],
      "metadata": {
        "id": "dcxhDvtGkYVX"
      }
    },
    {
      "cell_type": "markdown",
      "source": [
        "\n",
        "The process of cleaning unstructured text data, so that it can be used to predict, analyze, and extract information. Real-world text data is unstructured, inconsistent. So, Data preprocessing becomes a necessary step.\n",
        "\n",
        "The various Data Preprocessing methods are:\n",
        "\n",
        "Tokenization\n",
        "\n",
        "Frequency Distribution of Words\n",
        "\n",
        "Filtering Stop Words\n",
        "\n",
        "Stemming\n",
        "\n",
        "Lemmatization\n",
        "\n",
        "Parts of Speech(POS) Tagging\n",
        "\n",
        "These are some of the methods to process the text data in NLP. The list is not so exhaustive but serves as a great starting point for anyone who wants to get started with NLP."
      ],
      "metadata": {
        "id": "5WNFeH4BkRlx"
      }
    },
    {
      "cell_type": "markdown",
      "source": [
        "Tokenization:\n",
        "\n",
        "The process of breaking down the text data into individual tokens(words, sentences, characters) is known as Tokenization. It is a foremost step in Text Analytics."
      ],
      "metadata": {
        "id": "nQMxxzSCk1J1"
      }
    },
    {
      "cell_type": "code",
      "source": [
        "text = \"\"\"Fruits and vegetables are an essential part of a healthy diet.\n",
        "They are rich in nutrients and can lower our risk of chronic diseases such as cardiovascular diseases and certain cancers.\n",
        "Eating a variety of fruits and vegetables will help ensure that you are getting a range of nutrients.\n",
        "Whether you choose fresh or frozen or eat them in the morning or at night, fruits and vegetables are a great way to boost your health.\"\"\""
      ],
      "metadata": {
        "id": "jgAT9DsLj1Bg"
      },
      "execution_count": null,
      "outputs": []
    },
    {
      "cell_type": "markdown",
      "source": [
        "Sentence Tokenization"
      ],
      "metadata": {
        "id": "XF6hQwV1nE-d"
      }
    },
    {
      "cell_type": "code",
      "source": [
        "from nltk.tokenize import sent_tokenize\n",
        "text_to_sentence = sent_tokenize(text)\n"
      ],
      "metadata": {
        "id": "sT2uWizHl9nJ"
      },
      "execution_count": null,
      "outputs": []
    },
    {
      "cell_type": "code",
      "source": [
        "text_to_sentence"
      ],
      "metadata": {
        "colab": {
          "base_uri": "https://localhost:8080/"
        },
        "id": "P6ct1WiFmFXx",
        "outputId": "93c7da69-e1a0-4f39-ca7c-486b3e4433e2"
      },
      "execution_count": null,
      "outputs": [
        {
          "output_type": "execute_result",
          "data": {
            "text/plain": [
              "['Fruits and vegetables are an essential part of a healthy diet.',\n",
              " 'They are rich in nutrients and can lower our risk of chronic diseases such as cardiovascular diseases and certain cancers.',\n",
              " 'Eating a variety of fruits and vegetables will help ensure that you are getting a range of nutrients.',\n",
              " 'Whether you choose fresh or frozen or eat them in the morning or at night, fruits and vegetables are a great way to boost your health.']"
            ]
          },
          "metadata": {},
          "execution_count": 5
        }
      ]
    },
    {
      "cell_type": "markdown",
      "source": [
        "Word Tokenization"
      ],
      "metadata": {
        "id": "DAE8301nnLUt"
      }
    },
    {
      "cell_type": "code",
      "source": [
        "from nltk.tokenize import word_tokenize\n",
        "tokenized_word = word_tokenize(text)"
      ],
      "metadata": {
        "id": "UCKezNETmwdy"
      },
      "execution_count": null,
      "outputs": []
    },
    {
      "cell_type": "code",
      "source": [
        "print(tokenized_word)"
      ],
      "metadata": {
        "colab": {
          "base_uri": "https://localhost:8080/"
        },
        "id": "e0pWxcu9nPA1",
        "outputId": "2b3b78bd-04fa-4041-cb1f-786a4a9fb013"
      },
      "execution_count": null,
      "outputs": [
        {
          "output_type": "stream",
          "name": "stdout",
          "text": [
            "['Fruits', 'and', 'vegetables', 'are', 'an', 'essential', 'part', 'of', 'a', 'healthy', 'diet', '.', 'They', 'are', 'rich', 'in', 'nutrients', 'and', 'can', 'lower', 'our', 'risk', 'of', 'chronic', 'diseases', 'such', 'as', 'cardiovascular', 'diseases', 'and', 'certain', 'cancers', '.', 'Eating', 'a', 'variety', 'of', 'fruits', 'and', 'vegetables', 'will', 'help', 'ensure', 'that', 'you', 'are', 'getting', 'a', 'range', 'of', 'nutrients', '.', 'Whether', 'you', 'choose', 'fresh', 'or', 'frozen', 'or', 'eat', 'them', 'in', 'the', 'morning', 'or', 'at', 'night', ',', 'fruits', 'and', 'vegetables', 'are', 'a', 'great', 'way', 'to', 'boost', 'your', 'health', '.']\n"
          ]
        }
      ]
    },
    {
      "cell_type": "markdown",
      "source": [
        "Frequency Distribution of words\n",
        "\n",
        "One of the key steps in NLP is the ability to count the frequency of the terms used in a text document."
      ],
      "metadata": {
        "id": "a0RdiJlpnj6k"
      }
    },
    {
      "cell_type": "code",
      "source": [
        "#tokens = [token.lower() for token in tokenized_word]"
      ],
      "metadata": {
        "id": "a7u96FtvpmtN"
      },
      "execution_count": null,
      "outputs": []
    },
    {
      "cell_type": "code",
      "source": [
        "FreqDist(tokenized_word)"
      ],
      "metadata": {
        "colab": {
          "base_uri": "https://localhost:8080/"
        },
        "id": "0XPDvWvVvaJi",
        "outputId": "e6e2918d-fc42-4367-cb56-956d30ec4213"
      },
      "execution_count": null,
      "outputs": [
        {
          "output_type": "execute_result",
          "data": {
            "text/plain": [
              "FreqDist({'and': 5, 'are': 4, 'of': 4, 'a': 4, '.': 4, 'vegetables': 3, 'or': 3, 'in': 2, 'nutrients': 2, 'diseases': 2, ...})"
            ]
          },
          "metadata": {},
          "execution_count": 8
        }
      ]
    },
    {
      "cell_type": "code",
      "source": [
        "from nltk.probability import FreqDist\n",
        "freq_dist_of_words = FreqDist(tokenized_word)\n",
        "print(freq_dist_of_words)"
      ],
      "metadata": {
        "colab": {
          "base_uri": "https://localhost:8080/"
        },
        "id": "o0Ayy8lxnQBi",
        "outputId": "f596485a-f52c-49d7-a2bc-9a7143b3c39e"
      },
      "execution_count": null,
      "outputs": [
        {
          "output_type": "stream",
          "name": "stdout",
          "text": [
            "<FreqDist with 55 samples and 80 outcomes>\n"
          ]
        }
      ]
    },
    {
      "cell_type": "code",
      "source": [
        "freq_dist_of_words.most_common(10)"
      ],
      "metadata": {
        "colab": {
          "base_uri": "https://localhost:8080/"
        },
        "id": "igileWgAnqh8",
        "outputId": "2bb012ea-7410-4b27-f7e8-f43dc075cb6e"
      },
      "execution_count": null,
      "outputs": [
        {
          "output_type": "execute_result",
          "data": {
            "text/plain": [
              "[('and', 5),\n",
              " ('are', 4),\n",
              " ('of', 4),\n",
              " ('a', 4),\n",
              " ('.', 4),\n",
              " ('vegetables', 3),\n",
              " ('or', 3),\n",
              " ('in', 2),\n",
              " ('nutrients', 2),\n",
              " ('diseases', 2)]"
            ]
          },
          "metadata": {},
          "execution_count": 9
        }
      ]
    },
    {
      "cell_type": "code",
      "source": [
        "import matplotlib.pyplot as plt\n",
        "freq_dist_of_words.plot(30,cumulative=False)\n",
        "plt.show()"
      ],
      "metadata": {
        "colab": {
          "base_uri": "https://localhost:8080/",
          "height": 537
        },
        "id": "NJz0xLjSnxcv",
        "outputId": "e154615b-8110-4126-bd02-b8ce6ef9062f"
      },
      "execution_count": null,
      "outputs": [
        {
          "output_type": "display_data",
          "data": {
            "text/plain": [
              "<Figure size 640x480 with 1 Axes>"
            ],
            "image/png": "[encoded data removed]"
          },
          "metadata": {}
        }
      ]
    },
    {
      "cell_type": "code",
      "source": [
        "tokens = [token.lower() for token in tokenized_word]\n",
        "freq_dist_of_words = FreqDist(tokens)\n",
        "freq_dist_of_words.plot(30,cumulative=False)\n",
        "plt.show()"
      ],
      "metadata": {
        "colab": {
          "base_uri": "https://localhost:8080/",
          "height": 537
        },
        "id": "-HMr7ExDwCkN",
        "outputId": "a94081c7-4428-4170-990d-533e099b8a3f"
      },
      "execution_count": null,
      "outputs": [
        {
          "output_type": "display_data",
          "data": {
            "text/plain": [
              "<Figure size 640x480 with 1 Axes>"
            ],
            "image/png": "[encoded data removed]"
          },
          "metadata": {}
        }
      ]
    },
    {
      "cell_type": "markdown",
      "source": [
        "Removing Stop Words:\n",
        "\n",
        "Stop words are used to filter some words which are repetitive and don’t hold any information.\n",
        "\n",
        "For example, words like (did, has, these, is, are, etc.)don’t provide any information, so they need to be removed from the text. Stop Words are considered as Noise. NLTK provides a huge list of stop words."
      ],
      "metadata": {
        "id": "OXW9juM8qcFB"
      }
    },
    {
      "cell_type": "code",
      "source": [
        "nltk.download('stopwords')"
      ],
      "metadata": {
        "colab": {
          "base_uri": "https://localhost:8080/"
        },
        "id": "79wTyAytoccR",
        "outputId": "2c261f8b-6d21-4ee8-99f0-72151f90d90c"
      },
      "execution_count": null,
      "outputs": [
        {
          "output_type": "stream",
          "name": "stderr",
          "text": [
            "[nltk_data] Downloading package stopwords to /root/nltk_data...\n",
            "[nltk_data]   Unzipping corpora/stopwords.zip.\n"
          ]
        },
        {
          "output_type": "execute_result",
          "data": {
            "text/plain": [
              "True"
            ]
          },
          "metadata": {},
          "execution_count": 12
        }
      ]
    },
    {
      "cell_type": "code",
      "source": [
        "from nltk.corpus import stopwords\n",
        "stop_words=set(stopwords.words(\"english\"))\n",
        "print(stop_words)"
      ],
      "metadata": {
        "colab": {
          "base_uri": "https://localhost:8080/"
        },
        "id": "hkIK26_nqoav",
        "outputId": "6b68e3dc-a687-498b-c5b3-201657c8f2fe"
      },
      "execution_count": null,
      "outputs": [
        {
          "output_type": "stream",
          "name": "stdout",
          "text": [
            "{'on', 'she', 'both', 'mustn', 'theirs', 'were', 'my', 'didn', 'why', \"she's\", 'him', 'above', 'herself', 'yours', 'was', 'from', 'again', 's', \"didn't\", 'me', 'how', 'some', \"you'd\", 'doing', 'can', 'are', 'out', 'has', 'your', 'their', 're', 'until', 'off', \"needn't\", 'an', 'y', 'to', 'm', 'there', \"that'll\", 'same', 'too', 'weren', 'couldn', 'a', 'himself', 'then', 'haven', 'over', 'i', 'what', 'have', 'won', 'only', 'when', 'hadn', 'ourselves', 'his', \"you're\", 'be', 'under', 'wasn', \"hasn't\", 'while', 'so', 'because', 'most', 'will', \"mustn't\", 'own', 'nor', 'up', 't', \"hadn't\", 'its', 'that', 'having', \"you've\", 'or', 'the', 'myself', 'by', 'all', 'other', 'just', 'o', 'as', 'am', 'her', 'should', 'we', 'you', 'themselves', 'does', 'hers', 'here', 'did', 'doesn', 'more', 'with', \"isn't\", 'ma', \"wasn't\", 'yourselves', 'they', \"you'll\", 'if', 'of', 'between', 'below', 'such', 'mightn', 'shouldn', 'll', 'our', \"won't\", 'few', 'yourself', 'had', 'down', \"doesn't\", 'them', 'and', 'at', \"weren't\", 'no', 'against', 'during', \"shan't\", 'each', 'once', 'he', \"haven't\", 'ours', 'itself', \"wouldn't\", 'being', 'this', 'before', 'very', 'is', 'these', 'into', 'than', 'but', 'now', 'been', 'do', 'd', 'ain', \"aren't\", 'wouldn', 've', 'in', 'aren', 'it', 'who', \"couldn't\", \"mightn't\", 'for', 'those', 'hasn', 'which', \"should've\", 'further', \"shouldn't\", 'needn', 'about', 'through', \"it's\", 'any', 'not', 'after', 'shan', 'isn', 'whom', \"don't\", 'don', 'where'}\n"
          ]
        }
      ]
    },
    {
      "cell_type": "code",
      "source": [
        "text=\"\"\"They are rich in nutrients and can lower our risk of chronic diseases such as cardiovascular diseases and certain cancers\"\"\"\n",
        "\n",
        "tokenized_word = word_tokenize(text)\n",
        "filtered_text = []\n",
        "for each_word in tokenized_word:\n",
        "    if each_word not in stop_words:\n",
        "      filtered_text.append(each_word)"
      ],
      "metadata": {
        "id": "IiQSxqtNqt6C"
      },
      "execution_count": null,
      "outputs": []
    },
    {
      "cell_type": "code",
      "source": [
        "filtered_text"
      ],
      "metadata": {
        "colab": {
          "base_uri": "https://localhost:8080/"
        },
        "id": "SLugqtQnrOHj",
        "outputId": "8f4178e9-c7a4-477a-b2fe-322ae818eea7"
      },
      "execution_count": null,
      "outputs": [
        {
          "output_type": "execute_result",
          "data": {
            "text/plain": [
              "['They',\n",
              " 'rich',\n",
              " 'nutrients',\n",
              " 'lower',\n",
              " 'risk',\n",
              " 'chronic',\n",
              " 'diseases',\n",
              " 'cardiovascular',\n",
              " 'diseases',\n",
              " 'certain',\n",
              " 'cancers']"
            ]
          },
          "metadata": {},
          "execution_count": 15
        }
      ]
    },
    {
      "cell_type": "markdown",
      "source": [
        "Stemming:\n",
        "\n",
        "It is the process of getting the root form of a word."
      ],
      "metadata": {
        "id": "TRbTm76QsODS"
      }
    },
    {
      "cell_type": "code",
      "source": [
        "from nltk.stem import PorterStemmer\n",
        "pstemmer = PorterStemmer()\n",
        "words = ['good', 'better', 'happiest', 'happiness', 'breathing','fairly','eating', 'walking', 'comprehension', 'lives', 'knives']\n",
        "for word in words:\n",
        "    print(word + '--->' + pstemmer.stem(word))"
      ],
      "metadata": {
        "colab": {
          "base_uri": "https://localhost:8080/"
        },
        "id": "_uuKrwedrTLH",
        "outputId": "1c678e0d-6e50-4bcb-e0a5-d41bdb06ca71"
      },
      "execution_count": null,
      "outputs": [
        {
          "output_type": "stream",
          "name": "stdout",
          "text": [
            "good--->good\n",
            "better--->better\n",
            "happiest--->happiest\n",
            "happiness--->happi\n",
            "breathing--->breath\n",
            "fairly--->fairli\n",
            "eating--->eat\n",
            "walking--->walk\n",
            "comprehension--->comprehens\n",
            "lives--->live\n",
            "knives--->knive\n"
          ]
        }
      ]
    },
    {
      "cell_type": "markdown",
      "source": [
        "Lemmatization:\n",
        "\n",
        "Like stemming, lemmatization also converts a word to its root form. The only difference is that lemmatization ensures that the root word belongs to the language."
      ],
      "metadata": {
        "id": "CQcHHMdztZvm"
      }
    },
    {
      "cell_type": "code",
      "source": [
        "from nltk.stem.wordnet import WordNetLemmatizer\n",
        "lemmatizer = WordNetLemmatizer()\n",
        "#text = \"Life will always have problems and pressures.\"\n",
        "words = ['problems', 'always', 'lives', 'happiness', 'breathing','fairly','eating', 'walking', 'comprehension', 'knives']\n",
        "lemmatized_words_list = []\n",
        "#tokenized_word = word_tokenize(text)\n",
        "for each_word in words:\n",
        "    lem_word = lemmatizer.lemmatize(each_word)\n",
        "    lemmatized_words_list.append(lem_word)"
      ],
      "metadata": {
        "id": "UfQ2MBVYsrmk"
      },
      "execution_count": null,
      "outputs": []
    },
    {
      "cell_type": "code",
      "source": [
        "lemmatized_words_list"
      ],
      "metadata": {
        "colab": {
          "base_uri": "https://localhost:8080/"
        },
        "id": "K9vglGkPtPy3",
        "outputId": "0b8287c7-1699-430c-b54b-809a987b2615"
      },
      "execution_count": null,
      "outputs": [
        {
          "output_type": "execute_result",
          "data": {
            "text/plain": [
              "['problem',\n",
              " 'always',\n",
              " 'life',\n",
              " 'happiness',\n",
              " 'breathing',\n",
              " 'fairly',\n",
              " 'eating',\n",
              " 'walking',\n",
              " 'comprehension',\n",
              " 'knife']"
            ]
          },
          "metadata": {},
          "execution_count": 20
        }
      ]
    },
    {
      "cell_type": "markdown",
      "source": [
        "Parts of Speech(POS) tagging:\n",
        "\n",
        "It is the process of identifying parts of speech of a sentence. It is used to identify nouns, verbs, adjectives, adverbs, etc., and tag each word."
      ],
      "metadata": {
        "id": "RzOLBYIjveWC"
      }
    },
    {
      "cell_type": "code",
      "source": [
        "nltk.download('universal_tagset')\n",
        "nltk.download('averaged_perceptron_tagger')"
      ],
      "metadata": {
        "colab": {
          "base_uri": "https://localhost:8080/"
        },
        "id": "tYycXwF6vqxH",
        "outputId": "8d490f6b-0228-4b90-818e-4c47fffb168f"
      },
      "execution_count": null,
      "outputs": [
        {
          "output_type": "stream",
          "name": "stderr",
          "text": [
            "[nltk_data] Downloading package universal_tagset to /root/nltk_data...\n",
            "[nltk_data]   Unzipping taggers/universal_tagset.zip.\n",
            "[nltk_data] Downloading package averaged_perceptron_tagger to\n",
            "[nltk_data]     /root/nltk_data...\n",
            "[nltk_data]   Unzipping taggers/averaged_perceptron_tagger.zip.\n"
          ]
        },
        {
          "output_type": "execute_result",
          "data": {
            "text/plain": [
              "True"
            ]
          },
          "metadata": {},
          "execution_count": 21
        }
      ]
    },
    {
      "cell_type": "code",
      "source": [
        "\n",
        "text=\"\"\"She is a kind and intelligent girl\"\"\"\n",
        "tokenized_word = word_tokenize(text)\n",
        "nltk.pos_tag(tokenized_word)"
      ],
      "metadata": {
        "colab": {
          "base_uri": "https://localhost:8080/"
        },
        "id": "HBxbBCpFuCJ_",
        "outputId": "ea3e1006-d661-4413-ef30-d5a48fc3154a"
      },
      "execution_count": null,
      "outputs": [
        {
          "output_type": "execute_result",
          "data": {
            "text/plain": [
              "[('She', 'PRP'),\n",
              " ('is', 'VBZ'),\n",
              " ('a', 'DT'),\n",
              " ('kind', 'NN'),\n",
              " ('and', 'CC'),\n",
              " ('intelligent', 'NN'),\n",
              " ('girl', 'NN')]"
            ]
          },
          "metadata": {},
          "execution_count": 22
        }
      ]
    },
    {
      "cell_type": "markdown",
      "source": [
        "# Word Embedding"
      ],
      "metadata": {
        "id": "OyuMDJIJyqTB"
      }
    },
    {
      "cell_type": "markdown",
      "source": [
        "Word Embedding is a technique for converting or representing words into numbers. As computers can’t understand the text the way we do, we need to find a way to put the meaning of words into vectors.\n",
        "\n",
        "There are a numberof different methods for Word Embedding like count vectorizer, tf-idf, word2vec, etc.\n",
        "\n",
        "In this excercise, we will learn about the TF-IDF."
      ],
      "metadata": {
        "id": "QgOzqUKdywYT"
      }
    },
    {
      "cell_type": "markdown",
      "source": [
        "# TF-IDF (Term Frequency Inverse Document Frequency)"
      ],
      "metadata": {
        "id": "g0QNE_KVqAUc"
      }
    },
    {
      "cell_type": "markdown",
      "source": [
        "Term Frequency and Document Frequency\n",
        "\n",
        "Term Frequency: It is the number of occurrences of a word within a document.\n",
        "\n",
        "TF(t) = (Number of times a word or term ‘t’ appears in a document) / (Total number of words or terms in the document)\n",
        "\n",
        "Document Frequency:  It is the number of documents containing a particular word.\n",
        "\n",
        "\n",
        "Inverse Document Frequency:\n",
        "\n",
        "Inverse Document Frequency (IDF) is a weight indicating how commonly a word is used. The more frequent its usage across documents, the lower its score. The lower the score, the less important the word becomes.\n",
        "\n",
        "IDF(t) = log(Number of Documents in the corpus / Number of Documents in the Corpus that contain the term)\n"
      ],
      "metadata": {
        "id": "lxi-vnIHqNO2"
      }
    },
    {
      "cell_type": "markdown",
      "source": [
        "TF-IDF stands for Term Frequency Inverse Document Frequency of records. It can be defined as the calculation of how relevant a term or word in a series or corpus is to a text. Its formula is given below.\n",
        "\n",
        "TF-IDF = TF(t)*IDF(t)\n"
      ],
      "metadata": {
        "id": "mX3wvZeRqtXJ"
      }
    },
    {
      "cell_type": "code",
      "source": [
        "from sklearn.feature_extraction.text import TfidfVectorizer\n",
        "import pandas as pd\n",
        "# set of documents\n",
        "docs = ['The sky is blue.','The sun is bright.']\n",
        "# instantiate the vectorizer object\n",
        "tfidfvectorizer = TfidfVectorizer(analyzer='word',stop_words= 'english')\n",
        "# convert the documents into a matrix of numbers\n",
        "tfidf_wm = tfidfvectorizer.fit_transform(docs)\n",
        "#retrieve the terms found in the corpora\n",
        "\n",
        "tfidf_tokens = tfidfvectorizer.get_feature_names_out()\n",
        "df_tfidfvect = pd.DataFrame(data = tfidf_wm.toarray(),index = ['Doc1','Doc2'],columns = tfidf_tokens)\n",
        "\n",
        "print(\"TF-IDF Vectorizer\\n\")\n",
        "df_tfidfvect"
      ],
      "metadata": {
        "colab": {
          "base_uri": "https://localhost:8080/",
          "height": 160
        },
        "id": "EC6B2k6suAG7",
        "outputId": "7f28675b-1173-4e57-e61e-6085a9a941ee"
      },
      "execution_count": null,
      "outputs": [
        {
          "output_type": "stream",
          "name": "stdout",
          "text": [
            "TF-IDF Vectorizer\n",
            "\n"
          ]
        },
        {
          "output_type": "execute_result",
          "data": {
            "text/plain": [
              "          blue    bright       sky       sun\n",
              "Doc1  0.707107  0.000000  0.707107  0.000000\n",
              "Doc2  0.000000  0.707107  0.000000  0.707107"
            ],
            "text/html": [
              "\n",
              "  <div id=\"df-8f86b398-a9fe-4b1f-8b1a-51b757c645c3\" class=\"colab-df-container\">\n",
              "    <div>\n",
              "<style scoped>\n",
              "    .dataframe tbody tr th:only-of-type {\n",
              "        vertical-align: middle;\n",
              "    }\n",
              "\n",
              "    .dataframe tbody tr th {\n",
              "        vertical-align: top;\n",
              "    }\n",
              "\n",
              "    .dataframe thead th {\n",
              "        text-align: right;\n",
              "    }\n",
              "</style>\n",
              "<table border=\"1\" class=\"dataframe\">\n",
              "  <thead>\n",
              "    <tr style=\"text-align: right;\">\n",
              "      <th></th>\n",
              "      <th>blue</th>\n",
              "      <th>bright</th>\n",
              "      <th>sky</th>\n",
              "      <th>sun</th>\n",
              "    </tr>\n",
              "  </thead>\n",
              "  <tbody>\n",
              "    <tr>\n",
              "      <th>Doc1</th>\n",
              "      <td>0.707107</td>\n",
              "      <td>0.000000</td>\n",
              "      <td>0.707107</td>\n",
              "      <td>0.000000</td>\n",
              "    </tr>\n",
              "    <tr>\n",
              "      <th>Doc2</th>\n",
              "      <td>0.000000</td>\n",
              "      <td>0.707107</td>\n",
              "      <td>0.000000</td>\n",
              "      <td>0.707107</td>\n",
              "    </tr>\n",
              "  </tbody>\n",
              "</table>\n",
              "</div>\n",
              "    <div class=\"colab-df-buttons\">\n",
              "\n",
              "  <div class=\"colab-df-container\">\n",
              "    <button class=\"colab-df-convert\" onclick=\"convertToInteractive('df-8f86b398-a9fe-4b1f-8b1a-51b757c645c3')\"\n",
              "            title=\"Convert this dataframe to an interactive table.\"\n",
              "            style=\"display:none;\">\n",
              "\n",
              "  <svg xmlns=\"http://www.w3.org/2000/svg\" height=\"24px\" viewBox=\"0 -960 960 960\">\n",
              "    <path d=\"M120-120v-720h720v720H120Zm60-500h600v-160H180v160Zm220 220h160v-160H400v160Zm0 220h160v-160H400v160ZM180-400h160v-160H180v160Zm440 0h160v-160H620v160ZM180-180h160v-160H180v160Zm440 0h160v-160H620v160Z\"/>\n",
              "  </svg>\n",
              "    </button>\n",
              "\n",
              "  <style>\n",
              "    .colab-df-container {\n",
              "      display:flex;\n",
              "      gap: 12px;\n",
              "    }\n",
              "\n",
              "    .colab-df-convert {\n",
              "      background-color: #E8F0FE;\n",
              "      border: none;\n",
              "      border-radius: 50%;\n",
              "      cursor: pointer;\n",
              "      display: none;\n",
              "      fill: #1967D2;\n",
              "      height: 32px;\n",
              "      padding: 0 0 0 0;\n",
              "      width: 32px;\n",
              "    }\n",
              "\n",
              "    .colab-df-convert:hover {\n",
              "      background-color: #E2EBFA;\n",
              "      box-shadow: 0px 1px 2px rgba(60, 64, 67, 0.3), 0px 1px 3px 1px rgba(60, 64, 67, 0.15);\n",
              "      fill: #174EA6;\n",
              "    }\n",
              "\n",
              "    .colab-df-buttons div {\n",
              "      margin-bottom: 4px;\n",
              "    }\n",
              "\n",
              "    [theme=dark] .colab-df-convert {\n",
              "      background-color: #3B4455;\n",
              "      fill: #D2E3FC;\n",
              "    }\n",
              "\n",
              "    [theme=dark] .colab-df-convert:hover {\n",
              "      background-color: #434B5C;\n",
              "      box-shadow: 0px 1px 3px 1px rgba(0, 0, 0, 0.15);\n",
              "      filter: drop-shadow(0px 1px 2px rgba(0, 0, 0, 0.3));\n",
              "      fill: #FFFFFF;\n",
              "    }\n",
              "  </style>\n",
              "\n",
              "    <script>\n",
              "      const buttonEl =\n",
              "        document.querySelector('#df-8f86b398-a9fe-4b1f-8b1a-51b757c645c3 button.colab-df-convert');\n",
              "      buttonEl.style.display =\n",
              "        google.colab.kernel.accessAllowed ? 'block' : 'none';\n",
              "\n",
              "      async function convertToInteractive(key) {\n",
              "        const element = document.querySelector('#df-8f86b398-a9fe-4b1f-8b1a-51b757c645c3');\n",
              "        const dataTable =\n",
              "          await google.colab.kernel.invokeFunction('convertToInteractive',\n",
              "                                                    [key], {});\n",
              "        if (!dataTable) return;\n",
              "\n",
              "        const docLinkHtml = 'Like what you see? Visit the ' +\n",
              "          '<a target=\"_blank\" href=https://colab.research.google.com/notebooks/data_table.ipynb>data table notebook</a>'\n",
              "          + ' to learn more about interactive tables.';\n",
              "        element.innerHTML = '';\n",
              "        dataTable['output_type'] = 'display_data';\n",
              "        await google.colab.output.renderOutput(dataTable, element);\n",
              "        const docLink = document.createElement('div');\n",
              "        docLink.innerHTML = docLinkHtml;\n",
              "        element.appendChild(docLink);\n",
              "      }\n",
              "    </script>\n",
              "  </div>\n",
              "\n",
              "\n",
              "<div id=\"df-ab19f540-77ee-4f1d-9682-456693ac2b14\">\n",
              "  <button class=\"colab-df-quickchart\" onclick=\"quickchart('df-ab19f540-77ee-4f1d-9682-456693ac2b14')\"\n",
              "            title=\"Suggest charts\"\n",
              "            style=\"display:none;\">\n",
              "\n",
              "<svg xmlns=\"http://www.w3.org/2000/svg\" height=\"24px\"viewBox=\"0 0 24 24\"\n",
              "     width=\"24px\">\n",
              "    <g>\n",
              "        <path d=\"M19 3H5c-1.1 0-2 .9-2 2v14c0 1.1.9 2 2 2h14c1.1 0 2-.9 2-2V5c0-1.1-.9-2-2-2zM9 17H7v-7h2v7zm4 0h-2V7h2v10zm4 0h-2v-4h2v4z\"/>\n",
              "    </g>\n",
              "</svg>\n",
              "  </button>\n",
              "\n",
              "<style>\n",
              "  .colab-df-quickchart {\n",
              "      --bg-color: #E8F0FE;\n",
              "      --fill-color: #1967D2;\n",
              "      --hover-bg-color: #E2EBFA;\n",
              "      --hover-fill-color: #174EA6;\n",
              "      --disabled-fill-color: #AAA;\n",
              "      --disabled-bg-color: #DDD;\n",
              "  }\n",
              "\n",
              "  [theme=dark] .colab-df-quickchart {\n",
              "      --bg-color: #3B4455;\n",
              "      --fill-color: #D2E3FC;\n",
              "      --hover-bg-color: #434B5C;\n",
              "      --hover-fill-color: #FFFFFF;\n",
              "      --disabled-bg-color: #3B4455;\n",
              "      --disabled-fill-color: #666;\n",
              "  }\n",
              "\n",
              "  .colab-df-quickchart {\n",
              "    background-color: var(--bg-color);\n",
              "    border: none;\n",
              "    border-radius: 50%;\n",
              "    cursor: pointer;\n",
              "    display: none;\n",
              "    fill: var(--fill-color);\n",
              "    height: 32px;\n",
              "    padding: 0;\n",
              "    width: 32px;\n",
              "  }\n",
              "\n",
              "  .colab-df-quickchart:hover {\n",
              "    background-color: var(--hover-bg-color);\n",
              "    box-shadow: 0 1px 2px rgba(60, 64, 67, 0.3), 0 1px 3px 1px rgba(60, 64, 67, 0.15);\n",
              "    fill: var(--button-hover-fill-color);\n",
              "  }\n",
              "\n",
              "  .colab-df-quickchart-complete:disabled,\n",
              "  .colab-df-quickchart-complete:disabled:hover {\n",
              "    background-color: var(--disabled-bg-color);\n",
              "    fill: var(--disabled-fill-color);\n",
              "    box-shadow: none;\n",
              "  }\n",
              "\n",
              "  .colab-df-spinner {\n",
              "    border: 2px solid var(--fill-color);\n",
              "    border-color: transparent;\n",
              "    border-bottom-color: var(--fill-color);\n",
              "    animation:\n",
              "      spin 1s steps(1) infinite;\n",
              "  }\n",
              "\n",
              "  @keyframes spin {\n",
              "    0% {\n",
              "      border-color: transparent;\n",
              "      border-bottom-color: var(--fill-color);\n",
              "      border-left-color: var(--fill-color);\n",
              "    }\n",
              "    20% {\n",
              "      border-color: transparent;\n",
              "      border-left-color: var(--fill-color);\n",
              "      border-top-color: var(--fill-color);\n",
              "    }\n",
              "    30% {\n",
              "      border-color: transparent;\n",
              "      border-left-color: var(--fill-color);\n",
              "      border-top-color: var(--fill-color);\n",
              "      border-right-color: var(--fill-color);\n",
              "    }\n",
              "    40% {\n",
              "      border-color: transparent;\n",
              "      border-right-color: var(--fill-color);\n",
              "      border-top-color: var(--fill-color);\n",
              "    }\n",
              "    60% {\n",
              "      border-color: transparent;\n",
              "      border-right-color: var(--fill-color);\n",
              "    }\n",
              "    80% {\n",
              "      border-color: transparent;\n",
              "      border-right-color: var(--fill-color);\n",
              "      border-bottom-color: var(--fill-color);\n",
              "    }\n",
              "    90% {\n",
              "      border-color: transparent;\n",
              "      border-bottom-color: var(--fill-color);\n",
              "    }\n",
              "  }\n",
              "</style>\n",
              "\n",
              "  <script>\n",
              "    async function quickchart(key) {\n",
              "      const quickchartButtonEl =\n",
              "        document.querySelector('#' + key + ' button');\n",
              "      quickchartButtonEl.disabled = true;  // To prevent multiple clicks.\n",
              "      quickchartButtonEl.classList.add('colab-df-spinner');\n",
              "      try {\n",
              "        const charts = await google.colab.kernel.invokeFunction(\n",
              "            'suggestCharts', [key], {});\n",
              "      } catch (error) {\n",
              "        console.error('Error during call to suggestCharts:', error);\n",
              "      }\n",
              "      quickchartButtonEl.classList.remove('colab-df-spinner');\n",
              "      quickchartButtonEl.classList.add('colab-df-quickchart-complete');\n",
              "    }\n",
              "    (() => {\n",
              "      let quickchartButtonEl =\n",
              "        document.querySelector('#df-ab19f540-77ee-4f1d-9682-456693ac2b14 button');\n",
              "      quickchartButtonEl.style.display =\n",
              "        google.colab.kernel.accessAllowed ? 'block' : 'none';\n",
              "    })();\n",
              "  </script>\n",
              "</div>\n",
              "\n",
              "  <div id=\"id_cd87a031-7c62-4409-8777-dd982ccb40f2\">\n",
              "    <style>\n",
              "      .colab-df-generate {\n",
              "        background-color: #E8F0FE;\n",
              "        border: none;\n",
              "        border-radius: 50%;\n",
              "        cursor: pointer;\n",
              "        display: none;\n",
              "        fill: #1967D2;\n",
              "        height: 32px;\n",
              "        padding: 0 0 0 0;\n",
              "        width: 32px;\n",
              "      }\n",
              "\n",
              "      .colab-df-generate:hover {\n",
              "        background-color: #E2EBFA;\n",
              "        box-shadow: 0px 1px 2px rgba(60, 64, 67, 0.3), 0px 1px 3px 1px rgba(60, 64, 67, 0.15);\n",
              "        fill: #174EA6;\n",
              "      }\n",
              "\n",
              "      [theme=dark] .colab-df-generate {\n",
              "        background-color: #3B4455;\n",
              "        fill: #D2E3FC;\n",
              "      }\n",
              "\n",
              "      [theme=dark] .colab-df-generate:hover {\n",
              "        background-color: #434B5C;\n",
              "        box-shadow: 0px 1px 3px 1px rgba(0, 0, 0, 0.15);\n",
              "        filter: drop-shadow(0px 1px 2px rgba(0, 0, 0, 0.3));\n",
              "        fill: #FFFFFF;\n",
              "      }\n",
              "    </style>\n",
              "    <button class=\"colab-df-generate\" onclick=\"generateWithVariable('df_tfidfvect')\"\n",
              "            title=\"Generate code using this dataframe.\"\n",
              "            style=\"display:none;\">\n",
              "\n",
              "  <svg xmlns=\"http://www.w3.org/2000/svg\" height=\"24px\"viewBox=\"0 0 24 24\"\n",
              "       width=\"24px\">\n",
              "    <path d=\"M7,19H8.4L18.45,9,17,7.55,7,17.6ZM5,21V16.75L18.45,3.32a2,2,0,0,1,2.83,0l1.4,1.43a1.91,1.91,0,0,1,.58,1.4,1.91,1.91,0,0,1-.58,1.4L9.25,21ZM18.45,9,17,7.55Zm-12,3A5.31,5.31,0,0,0,4.9,8.1,5.31,5.31,0,0,0,1,6.5,5.31,5.31,0,0,0,4.9,4.9,5.31,5.31,0,0,0,6.5,1,5.31,5.31,0,0,0,8.1,4.9,5.31,5.31,0,0,0,12,6.5,5.46,5.46,0,0,0,6.5,12Z\"/>\n",
              "  </svg>\n",
              "    </button>\n",
              "    <script>\n",
              "      (() => {\n",
              "      const buttonEl =\n",
              "        document.querySelector('#id_cd87a031-7c62-4409-8777-dd982ccb40f2 button.colab-df-generate');\n",
              "      buttonEl.style.display =\n",
              "        google.colab.kernel.accessAllowed ? 'block' : 'none';\n",
              "\n",
              "      buttonEl.onclick = () => {\n",
              "        google.colab.notebook.generateWithVariable('df_tfidfvect');\n",
              "      }\n",
              "      })();\n",
              "    </script>\n",
              "  </div>\n",
              "\n",
              "    </div>\n",
              "  </div>\n"
            ]
          },
          "metadata": {},
          "execution_count": 23
        }
      ]
    },
    {
      "cell_type": "code",
      "source": [
        "test_docs = ['The sun in the sky is bright', 'We can see the shining sun, the bright sun.']\n",
        "print(\"TF-IDF Vectorizer for test_docs\\n\")\n",
        "pd.DataFrame(data = tfidfvectorizer.transform(test_docs).toarray(),index = ['Doc1','Doc2'],columns = tfidf_tokens)"
      ],
      "metadata": {
        "colab": {
          "base_uri": "https://localhost:8080/",
          "height": 147
        },
        "id": "SobP31hC2QS8",
        "outputId": "2eaaf192-f475-4722-e3a2-464f24212578"
      },
      "execution_count": null,
      "outputs": [
        {
          "output_type": "stream",
          "name": "stdout",
          "text": [
            "TF-IDF Vectorizer for test_docs\n",
            "\n"
          ]
        },
        {
          "output_type": "execute_result",
          "data": {
            "text/plain": [
              "      blue    bright      sky       sun\n",
              "Doc1   0.0  0.577350  0.57735  0.577350\n",
              "Doc2   0.0  0.447214  0.00000  0.894427"
            ],
            "text/html": [
              "\n",
              "  <div id=\"df-ea08ab23-0817-4b10-b578-8d494809f24c\" class=\"colab-df-container\">\n",
              "    <div>\n",
              "<style scoped>\n",
              "    .dataframe tbody tr th:only-of-type {\n",
              "        vertical-align: middle;\n",
              "    }\n",
              "\n",
              "    .dataframe tbody tr th {\n",
              "        vertical-align: top;\n",
              "    }\n",
              "\n",
              "    .dataframe thead th {\n",
              "        text-align: right;\n",
              "    }\n",
              "</style>\n",
              "<table border=\"1\" class=\"dataframe\">\n",
              "  <thead>\n",
              "    <tr style=\"text-align: right;\">\n",
              "      <th></th>\n",
              "      <th>blue</th>\n",
              "      <th>bright</th>\n",
              "      <th>sky</th>\n",
              "      <th>sun</th>\n",
              "    </tr>\n",
              "  </thead>\n",
              "  <tbody>\n",
              "    <tr>\n",
              "      <th>Doc1</th>\n",
              "      <td>0.0</td>\n",
              "      <td>0.577350</td>\n",
              "      <td>0.57735</td>\n",
              "      <td>0.577350</td>\n",
              "    </tr>\n",
              "    <tr>\n",
              "      <th>Doc2</th>\n",
              "      <td>0.0</td>\n",
              "      <td>0.447214</td>\n",
              "      <td>0.00000</td>\n",
              "      <td>0.894427</td>\n",
              "    </tr>\n",
              "  </tbody>\n",
              "</table>\n",
              "</div>\n",
              "    <div class=\"colab-df-buttons\">\n",
              "\n",
              "  <div class=\"colab-df-container\">\n",
              "    <button class=\"colab-df-convert\" onclick=\"convertToInteractive('df-ea08ab23-0817-4b10-b578-8d494809f24c')\"\n",
              "            title=\"Convert this dataframe to an interactive table.\"\n",
              "            style=\"display:none;\">\n",
              "\n",
              "  <svg xmlns=\"http://www.w3.org/2000/svg\" height=\"24px\" viewBox=\"0 -960 960 960\">\n",
              "    <path d=\"M120-120v-720h720v720H120Zm60-500h600v-160H180v160Zm220 220h160v-160H400v160Zm0 220h160v-160H400v160ZM180-400h160v-160H180v160Zm440 0h160v-160H620v160ZM180-180h160v-160H180v160Zm440 0h160v-160H620v160Z\"/>\n",
              "  </svg>\n",
              "    </button>\n",
              "\n",
              "  <style>\n",
              "    .colab-df-container {\n",
              "      display:flex;\n",
              "      gap: 12px;\n",
              "    }\n",
              "\n",
              "    .colab-df-convert {\n",
              "      background-color: #E8F0FE;\n",
              "      border: none;\n",
              "      border-radius: 50%;\n",
              "      cursor: pointer;\n",
              "      display: none;\n",
              "      fill: #1967D2;\n",
              "      height: 32px;\n",
              "      padding: 0 0 0 0;\n",
              "      width: 32px;\n",
              "    }\n",
              "\n",
              "    .colab-df-convert:hover {\n",
              "      background-color: #E2EBFA;\n",
              "      box-shadow: 0px 1px 2px rgba(60, 64, 67, 0.3), 0px 1px 3px 1px rgba(60, 64, 67, 0.15);\n",
              "      fill: #174EA6;\n",
              "    }\n",
              "\n",
              "    .colab-df-buttons div {\n",
              "      margin-bottom: 4px;\n",
              "    }\n",
              "\n",
              "    [theme=dark] .colab-df-convert {\n",
              "      background-color: #3B4455;\n",
              "      fill: #D2E3FC;\n",
              "    }\n",
              "\n",
              "    [theme=dark] .colab-df-convert:hover {\n",
              "      background-color: #434B5C;\n",
              "      box-shadow: 0px 1px 3px 1px rgba(0, 0, 0, 0.15);\n",
              "      filter: drop-shadow(0px 1px 2px rgba(0, 0, 0, 0.3));\n",
              "      fill: #FFFFFF;\n",
              "    }\n",
              "  </style>\n",
              "\n",
              "    <script>\n",
              "      const buttonEl =\n",
              "        document.querySelector('#df-ea08ab23-0817-4b10-b578-8d494809f24c button.colab-df-convert');\n",
              "      buttonEl.style.display =\n",
              "        google.colab.kernel.accessAllowed ? 'block' : 'none';\n",
              "\n",
              "      async function convertToInteractive(key) {\n",
              "        const element = document.querySelector('#df-ea08ab23-0817-4b10-b578-8d494809f24c');\n",
              "        const dataTable =\n",
              "          await google.colab.kernel.invokeFunction('convertToInteractive',\n",
              "                                                    [key], {});\n",
              "        if (!dataTable) return;\n",
              "\n",
              "        const docLinkHtml = 'Like what you see? Visit the ' +\n",
              "          '<a target=\"_blank\" href=https://colab.research.google.com/notebooks/data_table.ipynb>data table notebook</a>'\n",
              "          + ' to learn more about interactive tables.';\n",
              "        element.innerHTML = '';\n",
              "        dataTable['output_type'] = 'display_data';\n",
              "        await google.colab.output.renderOutput(dataTable, element);\n",
              "        const docLink = document.createElement('div');\n",
              "        docLink.innerHTML = docLinkHtml;\n",
              "        element.appendChild(docLink);\n",
              "      }\n",
              "    </script>\n",
              "  </div>\n",
              "\n",
              "\n",
              "<div id=\"df-6a324461-5727-4dd0-8fe5-c048af787da8\">\n",
              "  <button class=\"colab-df-quickchart\" onclick=\"quickchart('df-6a324461-5727-4dd0-8fe5-c048af787da8')\"\n",
              "            title=\"Suggest charts\"\n",
              "            style=\"display:none;\">\n",
              "\n",
              "<svg xmlns=\"http://www.w3.org/2000/svg\" height=\"24px\"viewBox=\"0 0 24 24\"\n",
              "     width=\"24px\">\n",
              "    <g>\n",
              "        <path d=\"M19 3H5c-1.1 0-2 .9-2 2v14c0 1.1.9 2 2 2h14c1.1 0 2-.9 2-2V5c0-1.1-.9-2-2-2zM9 17H7v-7h2v7zm4 0h-2V7h2v10zm4 0h-2v-4h2v4z\"/>\n",
              "    </g>\n",
              "</svg>\n",
              "  </button>\n",
              "\n",
              "<style>\n",
              "  .colab-df-quickchart {\n",
              "      --bg-color: #E8F0FE;\n",
              "      --fill-color: #1967D2;\n",
              "      --hover-bg-color: #E2EBFA;\n",
              "      --hover-fill-color: #174EA6;\n",
              "      --disabled-fill-color: #AAA;\n",
              "      --disabled-bg-color: #DDD;\n",
              "  }\n",
              "\n",
              "  [theme=dark] .colab-df-quickchart {\n",
              "      --bg-color: #3B4455;\n",
              "      --fill-color: #D2E3FC;\n",
              "      --hover-bg-color: #434B5C;\n",
              "      --hover-fill-color: #FFFFFF;\n",
              "      --disabled-bg-color: #3B4455;\n",
              "      --disabled-fill-color: #666;\n",
              "  }\n",
              "\n",
              "  .colab-df-quickchart {\n",
              "    background-color: var(--bg-color);\n",
              "    border: none;\n",
              "    border-radius: 50%;\n",
              "    cursor: pointer;\n",
              "    display: none;\n",
              "    fill: var(--fill-color);\n",
              "    height: 32px;\n",
              "    padding: 0;\n",
              "    width: 32px;\n",
              "  }\n",
              "\n",
              "  .colab-df-quickchart:hover {\n",
              "    background-color: var(--hover-bg-color);\n",
              "    box-shadow: 0 1px 2px rgba(60, 64, 67, 0.3), 0 1px 3px 1px rgba(60, 64, 67, 0.15);\n",
              "    fill: var(--button-hover-fill-color);\n",
              "  }\n",
              "\n",
              "  .colab-df-quickchart-complete:disabled,\n",
              "  .colab-df-quickchart-complete:disabled:hover {\n",
              "    background-color: var(--disabled-bg-color);\n",
              "    fill: var(--disabled-fill-color);\n",
              "    box-shadow: none;\n",
              "  }\n",
              "\n",
              "  .colab-df-spinner {\n",
              "    border: 2px solid var(--fill-color);\n",
              "    border-color: transparent;\n",
              "    border-bottom-color: var(--fill-color);\n",
              "    animation:\n",
              "      spin 1s steps(1) infinite;\n",
              "  }\n",
              "\n",
              "  @keyframes spin {\n",
              "    0% {\n",
              "      border-color: transparent;\n",
              "      border-bottom-color: var(--fill-color);\n",
              "      border-left-color: var(--fill-color);\n",
              "    }\n",
              "    20% {\n",
              "      border-color: transparent;\n",
              "      border-left-color: var(--fill-color);\n",
              "      border-top-color: var(--fill-color);\n",
              "    }\n",
              "    30% {\n",
              "      border-color: transparent;\n",
              "      border-left-color: var(--fill-color);\n",
              "      border-top-color: var(--fill-color);\n",
              "      border-right-color: var(--fill-color);\n",
              "    }\n",
              "    40% {\n",
              "      border-color: transparent;\n",
              "      border-right-color: var(--fill-color);\n",
              "      border-top-color: var(--fill-color);\n",
              "    }\n",
              "    60% {\n",
              "      border-color: transparent;\n",
              "      border-right-color: var(--fill-color);\n",
              "    }\n",
              "    80% {\n",
              "      border-color: transparent;\n",
              "      border-right-color: var(--fill-color);\n",
              "      border-bottom-color: var(--fill-color);\n",
              "    }\n",
              "    90% {\n",
              "      border-color: transparent;\n",
              "      border-bottom-color: var(--fill-color);\n",
              "    }\n",
              "  }\n",
              "</style>\n",
              "\n",
              "  <script>\n",
              "    async function quickchart(key) {\n",
              "      const quickchartButtonEl =\n",
              "        document.querySelector('#' + key + ' button');\n",
              "      quickchartButtonEl.disabled = true;  // To prevent multiple clicks.\n",
              "      quickchartButtonEl.classList.add('colab-df-spinner');\n",
              "      try {\n",
              "        const charts = await google.colab.kernel.invokeFunction(\n",
              "            'suggestCharts', [key], {});\n",
              "      } catch (error) {\n",
              "        console.error('Error during call to suggestCharts:', error);\n",
              "      }\n",
              "      quickchartButtonEl.classList.remove('colab-df-spinner');\n",
              "      quickchartButtonEl.classList.add('colab-df-quickchart-complete');\n",
              "    }\n",
              "    (() => {\n",
              "      let quickchartButtonEl =\n",
              "        document.querySelector('#df-6a324461-5727-4dd0-8fe5-c048af787da8 button');\n",
              "      quickchartButtonEl.style.display =\n",
              "        google.colab.kernel.accessAllowed ? 'block' : 'none';\n",
              "    })();\n",
              "  </script>\n",
              "</div>\n",
              "\n",
              "    </div>\n",
              "  </div>\n"
            ]
          },
          "metadata": {},
          "execution_count": 38
        }
      ]
    },
    {
      "cell_type": "code",
      "source": [],
      "metadata": {
        "id": "lONE8lAp6B2e"
      },
      "execution_count": null,
      "outputs": []
    }
  ]
}